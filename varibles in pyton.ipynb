{
 "cells": [
  {
   "cell_type": "markdown",
   "id": "750d76c9",
   "metadata": {},
   "source": [
    "##  Variables in python\n",
    "\n",
    "In any programming language, variable is nothing but just a name for identity. Like we all have our name and from our name people will recognize oneself and identify oneself.So Developers will use variables/ variable names to make the code more user-friendly , just like an english language so that no one will lost in the code.If any third person will see the code, they will be able to understand the code and the meaning behind it easily just by seeing useful variable names.\n",
    "\n",
    "In a more technical term,we can say that variables in python are the values that will vary.A variable is used to store a value. According to the requirement, this value of variable may change in future.\n",
    "\n",
    "In python, there is no need of declaring variable as soon as you assign something to a variable variable is called declared. explicitely we don't need any declaration."
   ]
  },
  {
   "cell_type": "markdown",
   "id": "bd22b1a4",
   "metadata": {},
   "source": [
    "### 1.1 Definining\n",
    "\n",
    "A variable in Python is defined through assignment. There is no concept of declaring a variable outside of that assignment."
   ]
  },
  {
   "cell_type": "code",
   "execution_count": 3,
   "id": "fbfd910b",
   "metadata": {},
   "outputs": [
    {
     "data": {
      "text/plain": [
       "10"
      ]
     },
     "execution_count": 3,
     "metadata": {},
     "output_type": "execute_result"
    }
   ],
   "source": [
    "# Assigning value to variable and printing the variable\n",
    "tenth = 10\n",
    "tenth"
   ]
  },
  {
   "cell_type": "code",
   "execution_count": 4,
   "id": "394bf062",
   "metadata": {},
   "outputs": [
    {
     "name": "stdout",
     "output_type": "stream",
     "text": [
      "5 10\n"
     ]
    }
   ],
   "source": [
    "X=5\n",
    "y = 10\n",
    "\n",
    "print(X,y)"
   ]
  },
  {
   "cell_type": "markdown",
   "id": "c5225765",
   "metadata": {},
   "source": [
    "For variable-names, there are certain rules which we should follow as a best practice:-"
   ]
  },
  {
   "cell_type": "markdown",
   "id": "8666c0b5",
   "metadata": {},
   "source": [
    "**1)**  Variable name can't start with number"
   ]
  },
  {
   "cell_type": "code",
   "execution_count": 5,
   "id": "9fd0dbcf",
   "metadata": {},
   "outputs": [
    {
     "ename": "SyntaxError",
     "evalue": "invalid decimal literal (3780348598.py, line 2)",
     "output_type": "error",
     "traceback": [
      "\u001b[1;36m  Cell \u001b[1;32mIn [5], line 2\u001b[1;36m\u001b[0m\n\u001b[1;33m    1a = \"pystart\"\u001b[0m\n\u001b[1;37m    ^\u001b[0m\n\u001b[1;31mSyntaxError\u001b[0m\u001b[1;31m:\u001b[0m invalid decimal literal\n"
     ]
    }
   ],
   "source": [
    "# Wrong coding practice\n",
    "1a = \"pystart\"\n",
    "1name = \"pystart\""
   ]
  },
  {
   "cell_type": "code",
   "execution_count": 6,
   "id": "d81fd248",
   "metadata": {},
   "outputs": [],
   "source": [
    "# correct one\n",
    "name1 = \"pystart\""
   ]
  },
  {
   "cell_type": "markdown",
   "id": "dfa466df",
   "metadata": {},
   "source": [
    "**2)**  Variable name are case-sensitive."
   ]
  },
  {
   "cell_type": "code",
   "execution_count": 8,
   "id": "90ad89d7",
   "metadata": {},
   "outputs": [
    {
     "name": "stdout",
     "output_type": "stream",
     "text": [
      "pystart\n",
      "pystart\n"
     ]
    }
   ],
   "source": [
    "# here name and Name are two different variable, so they are case sensitive\n",
    "name = \"pystart\"\n",
    "Name = \"pystart\"\n",
    "\n",
    "print(name)\n",
    "print(Name)"
   ]
  },
  {
   "cell_type": "markdown",
   "id": "b220ee4e",
   "metadata": {},
   "source": [
    "**3)**  Don't use python in built function/ data-type as a variable name"
   ]
  },
  {
   "cell_type": "code",
   "execution_count": 9,
   "id": "8e9538e2",
   "metadata": {},
   "outputs": [],
   "source": [
    "# Wrong practice\n",
    "int = 1\n",
    "\n",
    "# correct practice\n",
    "number_1 = 1"
   ]
  },
  {
   "cell_type": "markdown",
   "id": "ce29e0a6",
   "metadata": {},
   "source": [
    "**4)**  Variable name can only contain alpha-numeric characters and underscores (A-z, 0-9, and _ ). No other special characters are allowed."
   ]
  },
  {
   "cell_type": "code",
   "execution_count": 11,
   "id": "ee4f834e",
   "metadata": {},
   "outputs": [
    {
     "ename": "SyntaxError",
     "evalue": "invalid syntax (3564742926.py, line 2)",
     "output_type": "error",
     "traceback": [
      "\u001b[1;36m  Cell \u001b[1;32mIn [11], line 2\u001b[1;36m\u001b[0m\n\u001b[1;33m    name& = \"hi\"\u001b[0m\n\u001b[1;37m          ^\u001b[0m\n\u001b[1;31mSyntaxError\u001b[0m\u001b[1;31m:\u001b[0m invalid syntax\n"
     ]
    }
   ],
   "source": [
    "# wrong one\n",
    "name& = \"hi\""
   ]
  },
  {
   "cell_type": "code",
   "execution_count": 12,
   "id": "98515301",
   "metadata": {},
   "outputs": [],
   "source": [
    "# correct one\n",
    "name_a = \"ineuron\""
   ]
  },
  {
   "cell_type": "code",
   "execution_count": null,
   "id": "3cac6374",
   "metadata": {},
   "outputs": [],
   "source": []
  }
 ],
 "metadata": {
  "kernelspec": {
   "display_name": "Python 3 (ipykernel)",
   "language": "python",
   "name": "python3"
  },
  "language_info": {
   "codemirror_mode": {
    "name": "ipython",
    "version": 3
   },
   "file_extension": ".py",
   "mimetype": "text/x-python",
   "name": "python",
   "nbconvert_exporter": "python",
   "pygments_lexer": "ipython3",
   "version": "3.10.6"
  }
 },
 "nbformat": 4,
 "nbformat_minor": 5
}
